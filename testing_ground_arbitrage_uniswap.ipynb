{
 "cells": [
  {
   "cell_type": "code",
   "execution_count": 72,
   "id": "42d6891e",
   "metadata": {},
   "outputs": [],
   "source": [
    "class Pool: # DAI/ETH Pool\n",
    "    def __init__(self, dai: float, eth:float, fee: float = 0.003):\n",
    "        self.dai = dai\n",
    "        self.eth = eth\n",
    "        self.k = dai * eth\n",
    "        self.fee = fee\n",
    "        \n",
    "    def add_liquidity(self, dai: float, eth: float):\n",
    "        self.dai += dai\n",
    "        self.eth += eth\n",
    "        self.k = self.dai * self.eth\n",
    "\n",
    "    def remove_liquidity(self, dai: float, eth: float):\n",
    "        self.dai -= dai\n",
    "        self.eth -= eth\n",
    "        self.k = self.dai * self.eth\n",
    "    \n",
    "    def get_relative_price(self):\n",
    "        return self.eth / self.dai\n",
    "\n",
    "def swap(pool: Pool, amount: float, from_token: str, to_token: str) -> float: # Knowing Input Amounts\n",
    "    # Given INPUT DAI, return RECEIVED ETH (after fees)\n",
    "    if from_token == 'dai' and to_token == 'eth':\n",
    "#         print(\"Swapping \" + str(amount) + \" DAI to ETH...\")\n",
    "        eth_received = ((1 - pool.fee) * pool.eth * amount)/(pool.dai + (1 - pool.fee) * amount)\n",
    "        pool.add_liquidity(amount, 0)\n",
    "        pool.remove_liquidity(0, eth_received)\n",
    "#         print(str(amount) + \" DAI swapped to \" + str(eth_received) + \" ETH received\")\n",
    "        return eth_received\n",
    "    \n",
    "    # Given INPUT ETH, return RECEIVED DAI (after fees)\n",
    "    elif from_token == 'eth' and to_token == 'dai':\n",
    "#         print(\"Swapping \" + str(amount) + \" ETH to DAI...\")\n",
    "        dai_received = ((1 - pool.fee) * pool.dai * amount)/(pool.eth + (1 - pool.fee) * amount)\n",
    "        pool.add_liquidity(0, amount)\n",
    "        pool.remove_liquidity(dai_received, 0)\n",
    "#         print(str(amount) + \" ETH swapped to \" + str(dai_received) + \" DAI received\")\n",
    "        return dai_received\n",
    "    # Error message\n",
    "    else:\n",
    "        raise ValueError(\"Invalid Token Pair. :( \")\n",
    "        \n",
    "def swap_getInput(pool: Pool, from_token: str, to_token: str, amountOut: float): # Knowing Output needed\n",
    "    # Given OUTPUT ETH needed, calculate INPUT DAI required\n",
    "    if from_token == 'dai' and to_token == 'eth':\n",
    "#         print(\"To get \" + str(amountOut) + \" of ETH...\")\n",
    "        dai_needed = (pool.dai * amountOut) / ((1 - pool.fee) * (pool.eth - amountOut))\n",
    "#         print(\"You will need \" + str(dai_needed) + \" DAI\")\n",
    "        return dai_needed\n",
    "    \n",
    "    # Given OUTPUT DAI needed, calculate INPUT ETH required\n",
    "    if from_token == 'eth' and to_token == 'dai':\n",
    "#         print(\"To get \" + str(amountOut) + \" of DAI...\")\n",
    "        eth_needed = (pool.eth * amountOut) / ((1 - pool.fee) * (pool.dai - amountOut))\n",
    "#         print(\"You will need \" + str(eth_needed) + \" ETH\")\n",
    "        return eth_needed"
   ]
  },
  {
   "cell_type": "code",
   "execution_count": 73,
   "id": "2e6a049e",
   "metadata": {},
   "outputs": [
    {
     "name": "stdout",
     "output_type": "stream",
     "text": [
      "1755.46725097166\n"
     ]
    }
   ],
   "source": [
    "# Find optimal DAI needed for rel_a = rel_b\n",
    "import sympy as sp # in-built into Python3 existing libraries, no need to pip-install\n",
    "\n",
    "def optimal_dai(expensive_pool: Pool, cheap_pool: Pool) -> float:\n",
    "    rel_e = expensive_pool.get_relative_price()\n",
    "    rel_c = cheap_pool.get_relative_price()\n",
    "    dai_e, eth_e = expensive_pool.dai, expensive_pool.eth\n",
    "    dai_c, eth_c = cheap_pool.dai, cheap_pool.eth\n",
    "    x = sp.symbols('x')\n",
    "    eq = sp.Eq((eth_c + rel_c * x)/(dai_c - x), (eth_e - rel_e * x)/(dai_e + x))\n",
    "    # Solve for x\n",
    "    sol = sp.solve(eq, x)\n",
    "    # Print the solution\n",
    "#     print(\"x =\", sol)\n",
    "    \n",
    "    valid_solutions = []\n",
    "    for s in sol:\n",
    "        if s <= dai_c:\n",
    "            valid_solutions.append(s)\n",
    "    # Print the valid solution(s)\n",
    "    if len(valid_solutions) == 1:\n",
    "#         print(\"x =\", valid_solutions[0])\n",
    "        return valid_solutions[0]\n",
    "    elif len(valid_solutions) > 1:\n",
    "        print(\"More than 1 solution found\")\n",
    "    else:\n",
    "        print(\"No valid solution found.\")\n",
    "\n",
    "x = optimal_dai(pool_a, pool_b)\n",
    "print(x)"
   ]
  },
  {
   "cell_type": "code",
   "execution_count": 74,
   "id": "ababd796",
   "metadata": {},
   "outputs": [],
   "source": [
    "import copy # to allow copying of the original pools without changing their values when calculating arb"
   ]
  },
  {
   "cell_type": "code",
   "execution_count": 103,
   "id": "d754c0c3",
   "metadata": {},
   "outputs": [
    {
     "name": "stdout",
     "output_type": "stream",
     "text": [
      "\n",
      "----------------------------------------------------------------------------------------\n",
      "Current relative prices of the 2 pools: 0.0002 and 0.00018\n",
      "\n",
      "Buy 1755.46725097166 DAI from pool_b and sell to pool_a\n",
      "ETH required for arbitrage: 0.328467177362181\n",
      "ETH earned after arbitrage: 0.344019143866326\n",
      "\n",
      "Profit after arbitrage in ETH: \n",
      "0.0155519665041448\n",
      "\n",
      "Ending relative prices for both pools: 0.000193168793649719 and 0.000193358016873944\n",
      "+++++++++++++++++++++++++++++++++++++++++\n",
      "(0.328467177362181, 0.0155519665041448)\n",
      "\n",
      "----------------------------------------------------------------------------------------\n",
      "Current relative prices of the 2 pools: 0.00018 and 0.0002\n",
      "\n",
      "Buy 1755.46725097166 DAI from pool_a and sell to pool_b\n",
      "ETH required for arbitrage: 0.328467177362181\n",
      "ETH earned after arbitrage: 0.344019143866326\n",
      "\n",
      "Profit after arbitrage in ETH: \n",
      "0.0155519665041448\n",
      "\n",
      "Ending relative prices for both pools: 0.000193358016873944 and 0.000193168793649719\n",
      "+++++++++++++++++++++++++++++++++++++++++\n",
      "(0.328467177362181, 0.0155519665041448)\n"
     ]
    }
   ],
   "source": [
    "def calculate_arbitrage_eth(pool_a: Pool, pool_b: Pool):\n",
    "    rel_a = pool_a.get_relative_price()\n",
    "    rel_b = pool_b.get_relative_price()\n",
    "    \n",
    "    temp_a = copy.deepcopy(pool_a)\n",
    "    temp_b = copy.deepcopy(pool_b)\n",
    "    \n",
    "    print(\"\\n----------------------------------------------------------------------------------------\")\n",
    "    print(\"Current relative prices of the 2 pools: \" + str(rel_a) + \" and \" + str(rel_b))\n",
    "#     print(rel_a, rel_b)\n",
    "    if rel_a > rel_b: # Buy cheaper DAI from pool_b\n",
    "        print(\"\\nBuy \" + str(optimal_dai(temp_a, temp_b)) + \" DAI from pool_b and sell to pool_a\")\n",
    "        eth_req = swap_getInput(temp_b, 'eth', 'dai', optimal_dai(temp_a, temp_b))\n",
    "        dai_swapped = swap(temp_b, eth_req, 'eth', 'dai')\n",
    "        eth_earned = swap(temp_a, dai_swapped, 'dai', 'eth')\n",
    "        print(\"ETH required for arbitrage: \" + str(eth_req))\n",
    "        print(\"ETH earned after arbitrage: \" + str(eth_earned))\n",
    "        print(\"\\nProfit after arbitrage in ETH: \\n\" + str(eth_earned - eth_req))\n",
    "        print(\"\\nEnding relative prices for both pools: \" + str(temp_a.get_relative_price()) + \" and \" + str(temp_b.get_relative_price()))\n",
    "        print(\"+++++++++++++++++++++++++++++++++++++++++\")\n",
    "        return eth_req, eth_earned - eth_req\n",
    "    elif rel_a < rel_b:\n",
    "        print(\"\\nBuy \" + str(optimal_dai(temp_b, temp_a)) + \" DAI from pool_a and sell to pool_b\")\n",
    "        eth_req = swap_getInput(temp_a, 'eth', 'dai', optimal_dai(temp_b, temp_a))\n",
    "        dai_swapped = swap(temp_a, eth_req, 'eth', 'dai')\n",
    "        eth_earned = swap(temp_b, dai_swapped, 'dai', 'eth')\n",
    "        print(\"ETH required for arbitrage: \" + str(eth_req))\n",
    "        print(\"ETH earned after arbitrage: \" + str(eth_earned))\n",
    "        print(\"\\nProfit after arbitrage in ETH: \\n\" + str(eth_earned - eth_req))\n",
    "        print(\"\\nEnding relative prices for both pools: \" + str(temp_a.get_relative_price()) + \" and \" + str(temp_b.get_relative_price()))\n",
    "        print(\"+++++++++++++++++++++++++++++++++++++++++\")\n",
    "        return eth_req, eth_earned - eth_req\n",
    "    else:\n",
    "        print(\"No arbitrage opportunity present :( \")\n",
    "        \n",
    "    \n",
    "    \n",
    "print(calculate_arbitrage_eth(pool_a, pool_b))\n",
    "print(calculate_arbitrage_eth(pool_x, pool_y))"
   ]
  },
  {
   "cell_type": "code",
   "execution_count": 99,
   "id": "1d1a5115",
   "metadata": {},
   "outputs": [],
   "source": [
    "pool_a = Pool(100000, 20)\n",
    "pool_b = Pool(50000, 9)"
   ]
  },
  {
   "cell_type": "code",
   "execution_count": 82,
   "id": "672dc2dd",
   "metadata": {},
   "outputs": [
    {
     "name": "stdout",
     "output_type": "stream",
     "text": [
      "0.0002\n",
      "0.00018\n"
     ]
    }
   ],
   "source": [
    "print(pool_a.get_relative_price())\n",
    "print(pool_b.get_relative_price())"
   ]
  },
  {
   "cell_type": "code",
   "execution_count": 100,
   "id": "fe8b49a8",
   "metadata": {},
   "outputs": [],
   "source": [
    "pool_x = Pool(50000, 9)\n",
    "pool_y = Pool(100000, 20)"
   ]
  },
  {
   "cell_type": "code",
   "execution_count": 83,
   "id": "e7d364bc",
   "metadata": {},
   "outputs": [
    {
     "name": "stdout",
     "output_type": "stream",
     "text": [
      "0.00018\n",
      "0.0002\n"
     ]
    }
   ],
   "source": [
    "print(pool_x.get_relative_price())\n",
    "print(pool_y.get_relative_price())"
   ]
  },
  {
   "cell_type": "code",
   "execution_count": 40,
   "id": "a6efa59d",
   "metadata": {},
   "outputs": [
    {
     "name": "stdout",
     "output_type": "stream",
     "text": [
      "To get 1755.467251 of DAI...\n",
      "You will need 0.3284671773676765 ETH\n",
      "0.3284671773676765\n"
     ]
    }
   ],
   "source": [
    "y = swap_getInput(pool_b, 'eth', 'dai', 1755.467251)\n",
    "print(y)"
   ]
  },
  {
   "cell_type": "code",
   "execution_count": 17,
   "id": "90cf43fc",
   "metadata": {},
   "outputs": [
    {
     "name": "stdout",
     "output_type": "stream",
     "text": [
      "Swapping 0.3284671773676765 ETH to DAI...\n",
      "0.3284671773676765 ETH swapped to 1755.467251 DAI received\n"
     ]
    },
    {
     "data": {
      "text/plain": [
       "1755.467251"
      ]
     },
     "execution_count": 17,
     "metadata": {},
     "output_type": "execute_result"
    }
   ],
   "source": [
    "swap(pool_b, 0.3284671773676765, 'eth', 'dai')"
   ]
  },
  {
   "cell_type": "code",
   "execution_count": 18,
   "id": "e2bf6aae",
   "metadata": {},
   "outputs": [
    {
     "name": "stdout",
     "output_type": "stream",
     "text": [
      "Swapping 1755.467251 DAI to ETH...\n",
      "1755.467251 DAI swapped to 0.3440191438717838 ETH received\n"
     ]
    },
    {
     "data": {
      "text/plain": [
       "0.3440191438717838"
      ]
     },
     "execution_count": 18,
     "metadata": {},
     "output_type": "execute_result"
    }
   ],
   "source": [
    "swap(pool_a, 1755.467251, 'dai', 'eth')"
   ]
  },
  {
   "cell_type": "code",
   "execution_count": 19,
   "id": "b625be70",
   "metadata": {},
   "outputs": [
    {
     "name": "stdout",
     "output_type": "stream",
     "text": [
      "0.0001931687936496115\n",
      "0.0001933580168741718\n"
     ]
    }
   ],
   "source": [
    "print(pool_a.get_relative_price())\n",
    "print(pool_b.get_relative_price())"
   ]
  },
  {
   "cell_type": "code",
   "execution_count": 22,
   "id": "1e7e93e6",
   "metadata": {},
   "outputs": [
    {
     "name": "stdout",
     "output_type": "stream",
     "text": [
      "ETH required for trade: 0.3284671773676765\n",
      "ETH received back after the 2 trades: 0.3440191438717838\n",
      "Arbitrage profit in ETH: 0.015551966504107284\n"
     ]
    }
   ],
   "source": [
    "print(\"ETH required for trade: \" + str(0.3284671773676765))\n",
    "print(\"ETH received back after the 2 trades: \" + str(0.3440191438717838))\n",
    "print(\"Arbitrage profit in ETH: \" + str(0.3440191438717838 - 0.3284671773676765))"
   ]
  },
  {
   "cell_type": "code",
   "execution_count": null,
   "id": "b55d9251",
   "metadata": {},
   "outputs": [],
   "source": []
  },
  {
   "cell_type": "code",
   "execution_count": null,
   "id": "c0f4997b",
   "metadata": {},
   "outputs": [],
   "source": []
  },
  {
   "cell_type": "code",
   "execution_count": null,
   "id": "bac086c3",
   "metadata": {},
   "outputs": [],
   "source": []
  },
  {
   "cell_type": "code",
   "execution_count": 23,
   "id": "a468d1aa",
   "metadata": {},
   "outputs": [],
   "source": [
    "import sympy as sp"
   ]
  },
  {
   "cell_type": "code",
   "execution_count": 26,
   "id": "7185041b",
   "metadata": {},
   "outputs": [
    {
     "name": "stdout",
     "output_type": "stream",
     "text": [
      "x = [1755.46725097166, 2848244.53274903]\n"
     ]
    }
   ],
   "source": [
    "x = sp.symbols('x')\n",
    "eq = sp.Eq((9+0.00018*x)/(50000 - x), (20-0.0002*x)/(100000 + x))\n",
    "\n",
    "# Solve for x\n",
    "sol = sp.solve(eq, x)\n",
    "\n",
    "# Print the solution\n",
    "print(\"x =\", sol)"
   ]
  },
  {
   "cell_type": "code",
   "execution_count": 30,
   "id": "aa0111fe",
   "metadata": {},
   "outputs": [
    {
     "data": {
      "text/plain": [
       "list"
      ]
     },
     "execution_count": 30,
     "metadata": {},
     "output_type": "execute_result"
    }
   ],
   "source": [
    "type(sol)"
   ]
  },
  {
   "cell_type": "code",
   "execution_count": 35,
   "id": "3ab3a996",
   "metadata": {},
   "outputs": [
    {
     "name": "stdout",
     "output_type": "stream",
     "text": [
      "x = 1755.46725097166\n"
     ]
    }
   ],
   "source": [
    "valid_solutions = []\n",
    "for s in sol:\n",
    "    if s <= 50000:\n",
    "        valid_solutions.append(s)\n",
    "\n",
    "# Print the valid solution(s)\n",
    "if valid_solutions:\n",
    "    print(\"x =\", valid_solutions[0])\n",
    "else:\n",
    "    print(\"No valid solution found.\")"
   ]
  },
  {
   "cell_type": "code",
   "execution_count": null,
   "id": "18bba9fd",
   "metadata": {},
   "outputs": [],
   "source": []
  }
 ],
 "metadata": {
  "kernelspec": {
   "display_name": "Python 3 (ipykernel)",
   "language": "python",
   "name": "python3"
  },
  "language_info": {
   "codemirror_mode": {
    "name": "ipython",
    "version": 3
   },
   "file_extension": ".py",
   "mimetype": "text/x-python",
   "name": "python",
   "nbconvert_exporter": "python",
   "pygments_lexer": "ipython3",
   "version": "3.9.12"
  }
 },
 "nbformat": 4,
 "nbformat_minor": 5
}
